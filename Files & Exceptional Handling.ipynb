{
 "cells": [
  {
   "cell_type": "markdown",
   "id": "b913b1ab-3125-4c32-a4eb-97510980c421",
   "metadata": {},
   "source": [
    " # Files and Exceptional Handling"
   ]
  },
  {
   "cell_type": "markdown",
   "id": "3265e8ba-ff2a-49df-a558-7e9b0688b852",
   "metadata": {},
   "source": [
    "### 1. Discuss the scenarios where multithreading is preferable to multiprocessing and scenarios where multiprocessing is a better choice."
   ]
  },
  {
   "cell_type": "code",
   "execution_count": null,
   "id": "ca3dba74-d43f-4633-a1d4-a71efed3e359",
   "metadata": {},
   "outputs": [],
   "source": [
    "Multithreading >> It is preffered when we have to work concurrently \n",
    "                 Eg downloading files,light weight task,,web browsing, data sharing(as it shares same memory location data sharing is easy here) \n",
    "                \n",
    "Multiprocessing>> It is preffered when we have to work on different task parallaly\n",
    "                  Eg Heavy Computation,data processing pipeline"
   ]
  },
  {
   "cell_type": "markdown",
   "id": "c2583a54-94d2-4ffd-a122-1caae7f745fc",
   "metadata": {},
   "source": [
    "### 2.Describe what a process pool is and how it helps in managing multiple processes efficiently"
   ]
  },
  {
   "cell_type": "code",
   "execution_count": null,
   "id": "1b9d9737-4603-4079-ae35-4ddfcbe5575c",
   "metadata": {},
   "outputs": [],
   "source": [
    "Process Pool is collection of worker processors.\n",
    "It helps in managing multiple processes together by>>Fixing no of processes\n",
    "                                                     Distributing task among them \n",
    "                                                     Reusablitity of processes or Resourse management\n",
    "                                                     Simplified Parallalism(By using pool we  don't take care of creation and termination of processes)\n",
    "                                                     "
   ]
  },
  {
   "cell_type": "markdown",
   "id": "4b30ebe3-ffaf-4f1c-9a4a-e499e045649e",
   "metadata": {},
   "source": [
    "### 3.Explain what multiprocessing is and why it is used in Python programs"
   ]
  },
  {
   "cell_type": "code",
   "execution_count": null,
   "id": "89184790-6105-48db-872f-72e1be4df005",
   "metadata": {},
   "outputs": [],
   "source": [
    "Multiprocessing is a technique in which a program runs on multiple processors simultaneously.\n",
    "Each processor executes a separate process, allowing tasks to be performed in parallel.\n",
    "This approach can significantly reduce the time required for execution, especially for tasks involving heavy computation. \n",
    "By distributing the workload across multiple processors, multiprocessing also reduces the risk of the entire program crashing, as each process runs independently.\n",
    "In Python, the multiprocessing module is used to achieve this parallelism. It is particularly useful for CPU-bound tasks, where the performance is limited by the processor’s speed."
   ]
  },
  {
   "cell_type": "markdown",
   "id": "a14cb8cf-995b-4155-92ce-7fcd2eebd8f4",
   "metadata": {},
   "source": [
    "### 4 . Write a Python program using multithreading where one thread adds numbers to a list, and another thread removes numbers from the list. Implement a mechanism to avoid race conditions using threading.Lock"
   ]
  },
  {
   "cell_type": "code",
   "execution_count": 3,
   "id": "3223945b-0ecf-4f83-9644-da51971d392a",
   "metadata": {},
   "outputs": [
    {
     "name": "stdout",
     "output_type": "stream",
     "text": [
      "Added 1 to the list\n",
      "Removed 1 from the list\n",
      "Added 2 to the list\n",
      "Removed 2 from the list\n",
      "Added 3 to the list\n",
      "Added 4 to the list\n",
      "Removed 3 from the list\n",
      "Added 5 to the list\n",
      "Added 6 to the list\n",
      "Removed 4 from the list\n",
      "Added 7 to the list\n",
      "Added 8 to the list\n",
      "Removed 5 from the list\n",
      "Added 9 to the list\n",
      "Added 10 to the list\n",
      "Removed 6 from the list\n",
      "Removed 7 from the list\n",
      "Removed 8 from the list\n",
      "Removed 9 from the list\n",
      "Removed 10 from the list\n",
      "Final list: []\n"
     ]
    }
   ],
   "source": [
    "import threading\n",
    "import time\n",
    "\n",
    "# Shared list\n",
    "shared_list = []\n",
    "\n",
    "\n",
    "list_lock = threading.Lock()\n",
    "\n",
    "def add_numbers():\n",
    "    for i in range(1, 11):\n",
    "        with list_lock:\n",
    "            shared_list.append(i)\n",
    "            print(f\"Added {i} to the list\")\n",
    "        time.sleep(0.5)  # Simulate some delay\n",
    "\n",
    "def remove_numbers():\n",
    "    for i in range(1, 11):\n",
    "        with list_lock:\n",
    "            if shared_list:\n",
    "                removed = shared_list.pop(0)\n",
    "                print(f\"Removed {removed} from the list\")\n",
    "        time.sleep(1)  # Simulate some delay\n",
    "\n",
    "# Create threads\n",
    "adder_thread = threading.Thread(target=add_numbers)\n",
    "remover_thread = threading.Thread(target=remove_numbers)\n",
    "\n",
    "# Start threads\n",
    "adder_thread.start()\n",
    "remover_thread.start()\n",
    "\n",
    "# Wait for threads to complete\n",
    "adder_thread.join()\n",
    "remover_thread.join()\n",
    "\n",
    "print(\"Final list:\", shared_list)\n"
   ]
  },
  {
   "cell_type": "markdown",
   "id": "a9184072-0e40-4267-a79b-8dceae4a517a",
   "metadata": {},
   "source": [
    "###  5. Describe the methods and tools available in Python for safely sharing data between threads and processes"
   ]
  },
  {
   "cell_type": "code",
   "execution_count": null,
   "id": "97504e29-5acb-45f4-8d31-d28ae9af5ea6",
   "metadata": {},
   "outputs": [],
   "source": [
    "method helps to prevent threads to  access data  simultaneously.\n",
    "some method which are used in python are:\n",
    "1.threading.Lock\n",
    "2.multiprocessing.Queue\n"
   ]
  },
  {
   "cell_type": "code",
   "execution_count": null,
   "id": "8f8c84be-778a-41ef-be6e-59ba11fab29c",
   "metadata": {},
   "outputs": [],
   "source": [
    "Tools are the modules or classes in python to access method to implement funtionality .\n",
    "some tools used in python to safely share data between thread and processes are:\n",
    "1.threading\n",
    "2.queue\n",
    "3.multiprocessing"
   ]
  },
  {
   "cell_type": "markdown",
   "id": "b0c338e3-b5b5-42d3-9190-46342382389f",
   "metadata": {},
   "source": [
    "### 6. Discuss why it’s crucial to handle exceptions in concurrent programs and the techniques available for doing so."
   ]
  },
  {
   "cell_type": "code",
   "execution_count": null,
   "id": "af2b8df4-5ef2-4130-841a-fd21793fff4a",
   "metadata": {},
   "outputs": [],
   "source": [
    "Handle exceptions help in debugging the programme , prevent from programme crashing,Graceful Degradation\n",
    "We can use Try and except techinique "
   ]
  },
  {
   "cell_type": "markdown",
   "id": "c4475344-b629-4e25-a39a-de74c2040dd5",
   "metadata": {},
   "source": [
    "# 7. Create a program that uses a thread pool to calculate the factorial of numbers from 1 to 10 concurrently. Use concurrent.futures.ThreadPoolExecutor to manage the threads"
   ]
  },
  {
   "cell_type": "code",
   "execution_count": 5,
   "id": "1601b399-ba27-43d6-9064-cbc8f22969dc",
   "metadata": {},
   "outputs": [
    {
     "name": "stdout",
     "output_type": "stream",
     "text": [
      "The factorial of 1 is 1\n",
      "The factorial of 2 is 2\n",
      "The factorial of 3 is 6\n",
      "The factorial of 4 is 24\n",
      "The factorial of 5 is 120\n",
      "The factorial of 6 is 720\n",
      "The factorial of 7 is 5040\n",
      "The factorial of 8 is 40320\n",
      "The factorial of 9 is 362880\n",
      "The factorial of 10 is 3628800\n"
     ]
    }
   ],
   "source": [
    "import concurrent.futures\n",
    "import math\n",
    "\n",
    "def cal_factorial(num):\n",
    "    result = math.factorial(num)\n",
    "    print(f\"The factorial of {num} is {result}\")\n",
    "\n",
    "# List of numbers from 1 to 10\n",
    "numbers = list(range(1, 11))\n",
    "\n",
    "# Using ThreadPoolExecutor to calculate factorials concurrently\n",
    "with concurrent.futures.ThreadPoolExecutor() as executor:\n",
    "    executor.map(cal_factorial, numbers)"
   ]
  },
  {
   "cell_type": "markdown",
   "id": "78cdbdae-bc3f-4f82-854d-36f6738c8aae",
   "metadata": {},
   "source": [
    "# 8. Create a Python program that uses multiprocessing.Pool to compute the square of numbers from 1 to 10 in parallel. Measure the time taken to perform this computation using a pool of different sizes (e.g., 2, 4, 8 processes)"
   ]
  },
  {
   "cell_type": "code",
   "execution_count": null,
   "id": "5d23f1a4-9b8d-4373-9369-3e4247d7aec7",
   "metadata": {},
   "outputs": [],
   "source": [
    "import multiprocessing\n",
    "import time\n",
    "\n",
    "def square(n):\n",
    "    return n * n\n",
    "\n",
    "if __name__ == \"__main__\":\n",
    "    numbers = list(range(1, 11))\n",
    "    pool_sizes = [2, 4, 8]\n",
    "\n",
    "    for size in pool_sizes:\n",
    "        start_time = time.time()\n",
    "        with multiprocessing.Pool(processes=size) as pool:\n",
    "            results = pool.map(square, numbers)\n",
    "        end_time = time.time()\n",
    "        print(f\"Pool size: {size}, Time taken: {end_time - start_time:.4f} seconds\")"
   ]
  },
  {
   "cell_type": "code",
   "execution_count": null,
   "id": "0d617bb7-5bba-4dad-baa9-e47ebe79f014",
   "metadata": {},
   "outputs": [],
   "source": []
  },
  {
   "cell_type": "code",
   "execution_count": null,
   "id": "60a4eba7-e045-417f-9e3d-9f85a79fc71e",
   "metadata": {},
   "outputs": [],
   "source": []
  }
 ],
 "metadata": {
  "kernelspec": {
   "display_name": "Python 3 (ipykernel)",
   "language": "python",
   "name": "python3"
  },
  "language_info": {
   "codemirror_mode": {
    "name": "ipython",
    "version": 3
   },
   "file_extension": ".py",
   "mimetype": "text/x-python",
   "name": "python",
   "nbconvert_exporter": "python",
   "pygments_lexer": "ipython3",
   "version": "3.12.4"
  }
 },
 "nbformat": 4,
 "nbformat_minor": 5
}
